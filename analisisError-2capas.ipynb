{
 "cells": [
  {
   "cell_type": "code",
   "execution_count": null,
   "metadata": {},
   "outputs": [],
   "source": [
    "import cuentitas\n",
    "from cuentitas import a0VV, a1VVF1, a1VVF2\n",
    "import auxiliaresGNSS as au\n",
    "\n",
    "from numpy import pi, sqrt, sin, cos, exp, log10, array, real, conj\n",
    "import numpy as np\n",
    "import matplotlib\n",
    "from matplotlib import pyplot as plt\n",
    "from scipy import interpolate\n",
    "import seaborn as sns\n",
    "import pandas as pd\n",
    "import glob\n",
    "import theano.tensor as TT\n",
    "import time\n",
    "\n",
    "import pymc3 as pm\n",
    "import random \n",
    "sns.set()"
   ]
  },
  {
   "cell_type": "code",
   "execution_count": null,
   "metadata": {},
   "outputs": [],
   "source": [
    "import theano.tensor as T"
   ]
  },
  {
   "cell_type": "code",
   "execution_count": null,
   "metadata": {},
   "outputs": [],
   "source": [
    "# s0 = patron(epsilon1,epsilon2,de,ssup,sinf,altura)\n",
    "def patron(ep,s,ZA):\n",
    "\n",
    "\n",
    "    landa = 0.19\n",
    "    k0 = 2*np.pi/landa\n",
    "    phi = 0\n",
    "    ph = phi\n",
    "    th = thi\n",
    "\n",
    "    # sigmaFran(1, ep, 0.1, 0.001, 0.01, s, l, incAng[j], landa[k])\n",
    "    # s0 = au.generadorS0_Fran(ep1,ep2,d,s1,s2,ZA) #2 capas\n",
    "    s0 = au.generadorS0(thi,1,ep,0.1,0.01,s,ZA) #1 capa\n",
    "\n",
    "    nn = len(thi)\n",
    "    \n",
    "    a = TT.zeros(nn)\n",
    "\n",
    "    for i in range(nn):\n",
    "        a = TT.set_subtensor(a[i], s0[i])\n",
    "        \n",
    "    return a"
   ]
  },
  {
   "cell_type": "code",
   "execution_count": null,
   "metadata": {},
   "outputs": [],
   "source": [
    "def patron_ruidoso(ep,s,ZA):\n",
    "\n",
    "    RANDOM_SEED = 58\n",
    "\n",
    "    landa = 0.19\n",
    "    k0 = 2*np.pi/landa\n",
    "    phi = 0\n",
    "    ph = phi\n",
    "    th = thi\n",
    "\n",
    "    # sigmaFran(1, ep, 0.1, 0.001, 0.01, s, l, incAng[j], landa[k])\n",
    "    # s0 = au.generadorS0_Fran(ep1,ep2,d,s1,s2,ZA) #2 capas\n",
    "    s0 = au.generadorS0ruido(thi,1,ep,0.1,0.01,s,ZA,noise) #1 capa\n",
    "\n",
    "    nn = len(thi)\n",
    "    \n",
    "    a = TT.zeros(nn)\n",
    "\n",
    "    for i in range(nn):\n",
    "        a = TT.set_subtensor(a[i], s0[i])\n",
    "        \n",
    "    return a"
   ]
  },
  {
   "cell_type": "code",
   "execution_count": null,
   "metadata": {},
   "outputs": [],
   "source": [
    "# def modelo(medidos,errores,samples,thi): \n",
    "def modelo(medidos,errores,samples): \n",
    "\n",
    "    RANDOM_SEED = 58\n",
    "    ranges = {}\n",
    "\n",
    "    ''' DOS CAPAS\n",
    "    ranges['ep1'] = 4, 40\n",
    "    ranges['ep2'] = 4, 40\n",
    "    ranges['d'] = 0.03, 0.15\n",
    "    ranges['s1'] = 0.005, 0.02\n",
    "    ranges['s2'] = 0.005, 0.02\n",
    "    ranges['Za'] = 3, 3.5\n",
    "    '''\n",
    "\n",
    "    ranges['ep'] = 4, 40\n",
    "    ranges['s'] = 0.001, 0.02\n",
    "    ranges['Za'] = 2.99, 3.01 #poca incerteza\n",
    "\n",
    "    with pm.Model() as model:\n",
    "        ep = pm.Uniform('ep', ranges['ep'][0], ranges['ep'][1])\n",
    "        s = pm.Uniform('s', ranges['s'][0], ranges['s'][1])\n",
    "        Za = pm.Uniform('Za', ranges['Za'][0], ranges['Za'][1])\n",
    "\n",
    "    def f(ep = ep,\n",
    "          s = s,\n",
    "          Za = Za):\n",
    "        # return patron(ep1,ep2,d,s1,s2,Za) #2 capas\n",
    "        return patron(ep,s,Za)\n",
    "    \n",
    "    with model:\n",
    "        function_pm = pm.Deterministic('s0f', f())\n",
    "        observations = pm.Normal( \"obs\",  mu=real(function_pm), sigma=errores, observed=medidos)\n",
    "        trace = pm.sample_smc(samples, parallel=True)\n",
    "\n",
    "    with model:\n",
    "        ppc = pm.sample_posterior_predictive(trace, var_names=[\"ep\", \"s\", \"obs\"], random_seed=RANDOM_SEED, samples=10)\n",
    "        \n",
    "    return trace, ppc, model"
   ]
  },
  {
   "cell_type": "code",
   "execution_count": null,
   "metadata": {},
   "outputs": [],
   "source": [
    "# Trabajo en angulos medidos desde el azimut, los angulos de elevacion (gps) estan medidos desde el suelo. VOY A LLAMAR ELEVACION A LOS MEDIDOS DESDE AZIMUT\n",
    "# Las cotas que suponemos para nuestro suelo es entre 8º y 28º de elevacion y corresponden a ep entre 4 y 40. \n",
    "\n",
    "# inputs\n",
    "epsilon = 15.5\n",
    "ssup = 0.011\n",
    "altura = 3.0\n",
    "\n",
    "entrada = [epsilon,ssup,altura]\n",
    "\n",
    "# voy a analizar como varia al meter mas o menos mediciones, es decir, cambiando la discretizacion en los angulos\n",
    "discretizacion = 100\n",
    "thi = np.linspace(62*pi/180,82*pi/180, discretizacion)\n",
    "\n",
    "# s0 = au.generadorS0(elevacion,epsilon1,epsilon2,de,ssup,sinf,altura)\n",
    "s0 = patron(epsilon,ssup,altura)\n",
    "plt.plot(thi*180/pi,s0.eval())"
   ]
  },
  {
   "cell_type": "code",
   "execution_count": null,
   "metadata": {},
   "outputs": [],
   "source": [
    "# #agrego ruido\n",
    "# noise = 10 #Valor en porcentaje del ruido que quiero ej: 10 = 10% de ruido en la medicion\n",
    "# noise = 15 #Valor en porcentaje del ruido que quiero ej: 10 = 10% de ruido en la medicion\n",
    "noise = 5 #Valor en porcentaje del ruido que quiero ej: 10 = 10% de ruido en la medicion\n",
    "# noise = 1 #Valor en porcentaje del ruido que quiero ej: 10 = 10% de ruido en la medicion\n",
    "\n",
    "\n",
    "pert = patron_ruidoso(epsilon,ssup,altura)\n",
    "plt.plot(thi*180/pi,pert.eval() ,c='r')\n",
    "plt.plot(thi*180/pi,s0.eval(),linewidth=1,c='b')"
   ]
  },
  {
   "cell_type": "code",
   "execution_count": null,
   "metadata": {},
   "outputs": [],
   "source": [
    "# variance is the average of the squared differences from the mean.\n",
    "var = np.mean((pert.eval() - s0.eval())**2)\n",
    "sd = var**0.5\n",
    "print('sd = ' + str(sd))"
   ]
  },
  {
   "cell_type": "code",
   "execution_count": null,
   "metadata": {},
   "outputs": [],
   "source": [
    "plt.hist(pert.eval() - s0.eval())"
   ]
  },
  {
   "cell_type": "code",
   "execution_count": null,
   "metadata": {},
   "outputs": [],
   "source": [
    "type(pert.eval())"
   ]
  },
  {
   "cell_type": "code",
   "execution_count": null,
   "metadata": {},
   "outputs": [],
   "source": [
    "t0 = time.time()\n",
    "\n",
    "# medidos = s0\n",
    "medidos = pert.eval()\n",
    "\n",
    "\n",
    "# sig = 0.15 #default\n",
    "\n",
    "# Parameters\n",
    "\n",
    "#     mu: float\n",
    "\n",
    "#         Mean.\n",
    "#     sigma: float\n",
    "\n",
    "#         Standard deviation (sigma > 0) (only required if tau is not specified).\n",
    "#     tau: float\n",
    "\n",
    "#         Precision (tau > 0) (only required if sigma is not specified).\n",
    "\n",
    "\n",
    "# sig = 5*sd # ruido que anda\n",
    "sig = sd\n",
    "\n",
    "# errores = np.asarray(len(s0.eval())*[sig]) #ojo saque esto\n",
    "errores = sig\n",
    "\n",
    "\n",
    "muestreo = 3000\n",
    "\n",
    "# traza = modelo(medidos,errores,muestreo,elevacion)\n",
    "traza, ppc, model = modelo(medidos,errores,muestreo)"
   ]
  },
  {
   "cell_type": "code",
   "execution_count": null,
   "metadata": {},
   "outputs": [],
   "source": [
    "from matplotlib.pyplot import figure\n",
    "\n",
    "figure(figsize=(16, 16), dpi=150)\n",
    "\n",
    "plotear = np.stack((traza['ep'],traza['s'],traza['Za'])).T\n",
    "dfplotear = pd.DataFrame(plotear, columns = ['ep','s','Za'])\n",
    "\n",
    "ep_sample_mean = traza['ep'].mean()\n",
    "s_sample_mean = traza['s'].mean()\n",
    "Za_sample_mean = traza['Za'].mean()\n",
    "\n",
    "sample_mean = [ep_sample_mean, s_sample_mean, Za_sample_mean]\n",
    "\n",
    "\n",
    "g = sns.PairGrid(dfplotear)\n",
    "g.fig.suptitle('GNSS2022-#med-1capa:'+str(discretizacion)+'ruido='+str(noise)+'%-set4', y=1.01, fontsize = 'large')\n",
    "g.map_upper(sns.histplot)\n",
    "g.map_lower(sns.kdeplot, fill=True)\n",
    "g.map_diag(sns.histplot, kde=True, color='.5')\n",
    "\n",
    "\n",
    "for i in range(len(entrada)):\n",
    "    for j in range(len(entrada)):\n",
    "        if i == j:\n",
    "            #ploteo el valor verdadero en las marginales\n",
    "            g.axes[j,i].axvline(entrada[i], color='r', linestyle='dashed', linewidth=2) #Este me descuajeringa todo, despues veo como arreglarlo\n",
    "            g.axes[j,i].axvline(sample_mean[i], color='g', linestyle='dashed', linewidth=2)\n",
    "            pass\n",
    "        else:\n",
    "            g.axes[j,i].scatter(entrada[i], entrada[j], marker=\"+\", c='r', s=300) #color='k', linestyle='dashed', linewidth=1)\n",
    "            g.axes[j,i].scatter(sample_mean[i], sample_mean[j], marker=\"+\", c='g', s=300) #color='k', linestyle='dashed', linewidth=1)"
   ]
  },
  {
   "cell_type": "code",
   "execution_count": null,
   "metadata": {},
   "outputs": [],
   "source": [
    "Nombre = 'Analisis_de_error/#d='+'F-1capa'+'m='+str(muestreo)+'sigma='+'{:.2f}'.format(sd)+'-Ns='+str(noise)+'%-set4'\n"
   ]
  },
  {
   "cell_type": "code",
   "execution_count": null,
   "metadata": {},
   "outputs": [],
   "source": [
    "Nombre"
   ]
  },
  {
   "cell_type": "code",
   "execution_count": null,
   "metadata": {},
   "outputs": [],
   "source": [
    "g.savefig(Nombre+'.png', dpi=300)\n",
    "\n",
    "t1 = time.time()\n",
    "print(\"Tiempo de ejecución:\", t1-t0, 'seg','(', (t1-t0)/3600,  'hs )')"
   ]
  },
  {
   "cell_type": "code",
   "execution_count": null,
   "metadata": {},
   "outputs": [],
   "source": [
    "e1 = traza['ep']\n",
    "# e2 = traza['ep2']\n",
    "# d = traza['d']\n",
    "s1 = traza['s']\n",
    "# s2 = traza['s2']\n",
    "Za = traza['Za']\n",
    "\n",
    "guardar = [e1,s1,Za]\n",
    "\n",
    "f2 = np.savetxt(Nombre+'.txt',guardar, fmt='%s', delimiter=';')"
   ]
  },
  {
   "cell_type": "code",
   "execution_count": null,
   "metadata": {},
   "outputs": [],
   "source": [
    "# ep1 = 25\n",
    "# ep2 = 33\n",
    "# d = 0.1\n",
    "# s1 = 0.01\n",
    "# s2 = 0.015\n",
    "# z = 3.15"
   ]
  },
  {
   "cell_type": "code",
   "execution_count": null,
   "metadata": {},
   "outputs": [],
   "source": [
    "a = sns.kdeplot(traza['ep'],traza['s'], fill=True)#, cmap='cubehelix',thresh = 0,levels=100)\n",
    "a.set(xlabel='ep', ylabel='s')\n",
    "a.scatter(epsilon, ssup, marker=\"+\", c='r', s=200)\n",
    "fig = a.get_figure() \n",
    "# fig.savefig('Analisis_de_error/ep1ep2.png',dpi = 300)"
   ]
  },
  {
   "cell_type": "code",
   "execution_count": null,
   "metadata": {},
   "outputs": [],
   "source": [
    "#PPC\n",
    "import arviz as az"
   ]
  },
  {
   "cell_type": "code",
   "execution_count": null,
   "metadata": {},
   "outputs": [],
   "source": [
    "az.plot_ppc(az.from_pymc3(posterior_predictive=ppc, model=model))"
   ]
  },
  {
   "cell_type": "code",
   "execution_count": null,
   "metadata": {},
   "outputs": [],
   "source": [
    "ppc['obs'].mean(axis=0).shape"
   ]
  },
  {
   "cell_type": "code",
   "execution_count": null,
   "metadata": {},
   "outputs": [],
   "source": [
    "from matplotlib.pyplot import figure\n",
    "\n",
    "g1 = figure(figsize=(18, 8), dpi=80)\n",
    "\n",
    "plt.plot(thi*180/pi,pert.eval(),linewidth=2, c='r', label='obs')\n",
    "\n",
    "alphaPPC = 0.3\n",
    "\n",
    "ppc_mean = ppc['obs'].mean(axis = 0)\n",
    "\n",
    "plt.plot(thi*180/pi, ppc_mean, alpha = 0.8, linewidth=2, c='b', label='sample mean')\n",
    "\n",
    "for i in range(10):\n",
    "    plt.plot(thi*180/pi, ppc['obs'][i,:], ':k', alpha = alphaPPC,  label='sample')\n",
    "    # plt.plot(thi*180/pi, ppc['obs'][0,:], ':k', alpha = alphaPPC,  label='sample #1')\n",
    "    # plt.plot(thi*180/pi, ppc['obs'][4,:], ':k', alpha = alphaPPC, label='sample #2')\n",
    "    # plt.plot(thi*180/pi, ppc['obs'][8,:], ':k', alpha = alphaPPC, label='sample #3')\n",
    "\n",
    "plt.legend()\n",
    "\n",
    "g1.savefig(Nombre+'+_ppc.png', dpi=300)\n",
    "\n"
   ]
  },
  {
   "cell_type": "code",
   "execution_count": null,
   "metadata": {},
   "outputs": [],
   "source": []
  },
  {
   "cell_type": "code",
   "execution_count": null,
   "metadata": {},
   "outputs": [],
   "source": []
  },
  {
   "cell_type": "code",
   "execution_count": null,
   "metadata": {},
   "outputs": [],
   "source": []
  }
 ],
 "metadata": {
  "kernelspec": {
   "display_name": "Python 3",
   "language": "python",
   "name": "python3"
  },
  "language_info": {
   "codemirror_mode": {
    "name": "ipython",
    "version": 3
   },
   "file_extension": ".py",
   "mimetype": "text/x-python",
   "name": "python",
   "nbconvert_exporter": "python",
   "pygments_lexer": "ipython3",
   "version": "3.7.11"
  }
 },
 "nbformat": 4,
 "nbformat_minor": 4
}
